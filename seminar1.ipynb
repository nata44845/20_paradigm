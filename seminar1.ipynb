{
 "cells": [
  {
   "cell_type": "markdown",
   "metadata": {},
   "source": [
    "## Задание 1\n",
    "**Контекст**\n",
    "\n",
    "Предположим, что нам хочется для любого массива чисел array и любого числа target узнать содержится ли target в array. Такую процедуру будем называть поиском.\n",
    "\n",
    "**Задача**\n",
    "\n",
    "Реализовать императивную функцию поиска элементов на языке Python.\n",
    "\n",
    "**Решение:** "
   ]
  },
  {
   "cell_type": "code",
   "execution_count": 3,
   "metadata": {},
   "outputs": [
    {
     "name": "stdout",
     "output_type": "stream",
     "text": [
      "False\n"
     ]
    }
   ],
   "source": [
    "def search_imperative(arr, target):\n",
    "    for i in arr:\n",
    "        if target == i:\n",
    "            return True\n",
    "    return False\n",
    "\n",
    "arr = [1,2,3,4,5,6]\n",
    "target = int(input())\n",
    "\n",
    "print(search_imperative(arr, target))\n"
   ]
  },
  {
   "cell_type": "markdown",
   "metadata": {},
   "source": [
    "## Задание 2. Поиск: декларативный\n",
    "\n",
    "**Контекст**\n",
    "\n",
    "Предположим, что нам хочется для любого массива чисел array и любого числа target узнать содержится ли target в array. Такую процедуру будем называть поиском.\n",
    "\n",
    "**Задача**\n",
    "\n",
    "Реализовать декларативную функцию поиска элементов на языке Python.\n",
    "\n",
    "**Решение:**"
   ]
  },
  {
   "cell_type": "code",
   "execution_count": 4,
   "metadata": {},
   "outputs": [
    {
     "name": "stdout",
     "output_type": "stream",
     "text": [
      "True\n"
     ]
    }
   ],
   "source": [
    "def search_declarative(arr, target):\n",
    "    return target in arr\n",
    "\n",
    "arr = [1,2,3,4,5,6]\n",
    "target = int(input())\n",
    "\n",
    "print(search_declarative(arr, target))"
   ]
  },
  {
   "cell_type": "markdown",
   "metadata": {},
   "source": [
    "## Задание 3. Доля чисел: императивный вариант\n",
    "\n",
    "**Условие**\n",
    "\n",
    "На вход подается: список целых чисел arr\n",
    "\n",
    "**Задача**\n",
    "\n",
    "Реализовать императивную функцию, которая возвращает три числа:\n",
    "\n",
    "- Долю позитивных чисел\n",
    "- Долю нулей\n",
    "- Долю отрицательных чисел\n",
    "\n",
    "**Решение:**"
   ]
  },
  {
   "cell_type": "code",
   "execution_count": null,
   "metadata": {},
   "outputs": [
    {
     "name": "stdout",
     "output_type": "stream",
     "text": [
      "(0.7142857142857143, 0.14285714285714285, 0.14285714285714285)\n"
     ]
    }
   ],
   "source": [
    "def numbers_share(arr):\n",
    "    pos_cnt = neg_cnt = zero_cnt = 0\n",
    "    for i in arr:\n",
    "        if i>0: pos_cnt += 1\n",
    "        elif i == 0: zero_cnt += 1\n",
    "        else: neg_cnt += 1\n",
    "    return pos_cnt/len(arr), zero_cnt/len(arr), neg_cnt/len(arr)\n",
    "\n",
    "arr = [1,2,0,4,5,6,-3]\n",
    "print(numbers_share(arr))"
   ]
  },
  {
   "cell_type": "markdown",
   "metadata": {},
   "source": [
    "## Задание 4. Доля чисел: декларативный вариант\n",
    "\n",
    "**Условие**\n",
    "\n",
    "На вход подается: список целых чисел arr\n",
    "\n",
    "**Задача**\n",
    "\n",
    "Реализовать декларативную функцию, которая возвращает три числа:\n",
    "\n",
    "Долю позитивных чисел\n",
    "\n",
    "Долю нулей\n",
    "\n",
    "Долю отрицательных чисел\n",
    "\n",
    "**Решение:** "
   ]
  },
  {
   "cell_type": "code",
   "execution_count": null,
   "metadata": {},
   "outputs": [
    {
     "name": "stdout",
     "output_type": "stream",
     "text": [
      "(0.7142857142857143, 0.14285714285714285, 0.14285714285714285)\n"
     ]
    }
   ],
   "source": [
    "def numbers_share_declarative(arr):\n",
    "    pos_cnt = len(list(filter(lambda x: x>0, arr)))\n",
    "    neg_cnt = len(list(filter(lambda x: x<0, arr)))\n",
    "    zero_cnt = len(list(filter(lambda x: x==0, arr)))\n",
    "    return pos_cnt/len(arr), zero_cnt/len(arr), neg_cnt/len(arr)\n",
    "\n",
    "arr = [1,2,0,4,5,6,-3]\n",
    "print(numbers_share_declarative(arr))"
   ]
  }
 ],
 "metadata": {
  "kernelspec": {
   "display_name": "Python 3",
   "language": "python",
   "name": "python3"
  },
  "language_info": {
   "codemirror_mode": {
    "name": "ipython",
    "version": 3
   },
   "file_extension": ".py",
   "mimetype": "text/x-python",
   "name": "python",
   "nbconvert_exporter": "python",
   "pygments_lexer": "ipython3",
   "version": "3.11.9"
  }
 },
 "nbformat": 4,
 "nbformat_minor": 2
}
